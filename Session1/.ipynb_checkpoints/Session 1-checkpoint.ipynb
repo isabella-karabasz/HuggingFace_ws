{
 "cells": [
  {
   "cell_type": "markdown",
   "metadata": {},
   "source": [
    "En la primera sesión del Curso Práctico: NLP de 0 a 100 con 🤗, Omar Sanseviero hará una introducción al Procesamiento de Lenguaje Natural. A continuación, explicará word embeddings y word2vec, así como su uso y sesgos."
   ]
  },
  {
   "cell_type": "code",
   "execution_count": null,
   "metadata": {},
   "outputs": [],
   "source": []
  }
 ],
 "metadata": {
  "kernelspec": {
   "display_name": "Python 3",
   "language": "python",
   "name": "python3"
  },
  "language_info": {
   "codemirror_mode": {
    "name": "ipython",
    "version": 3
   },
   "file_extension": ".py",
   "mimetype": "text/x-python",
   "name": "python",
   "nbconvert_exporter": "python",
   "pygments_lexer": "ipython3",
   "version": "3.7.5"
  }
 },
 "nbformat": 4,
 "nbformat_minor": 4
}
